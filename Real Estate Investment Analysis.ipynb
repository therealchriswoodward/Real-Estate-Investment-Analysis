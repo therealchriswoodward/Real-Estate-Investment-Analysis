{
 "cells": [
  {
   "cell_type": "markdown",
   "metadata": {},
   "source": [
    "# Real Estate Investment Analysis"
   ]
  },
  {
   "cell_type": "markdown",
   "metadata": {},
   "source": [
    "# Scenario:\n",
    "\n",
    "An investor is looking at a real estate asset and wants me to analyze the strength of the investment. I'm going to perform a thorough analysis over a ten-year period simulated multiple times to see how the asset performs consistently. The investor's portfolio is valued at $85M, all in index funds like \"SPY\"; this real estate asset will be a significant addition."
   ]
  },
  {
   "cell_type": "markdown",
   "metadata": {},
   "source": [
    "## Details:\n",
    "\n",
    "* The investor requires a 15% return to make the investment.\n",
    "* Projected revenues are usually provided by an agent from a property management company.\n",
    "    - These are often based on comparables.\n",
    "    - This will include a current occupancy rate of 87%, which varies in the real world..\n",
    "    - Expenses will be weighted for simulation.\n",
    "* There is _always_ a chance for a market downturn."
   ]
  },
  {
   "cell_type": "markdown",
   "metadata": {},
   "source": [
    "# Features:\n",
    "\n",
    "* **Scalability**: Analyzing any number of units will be as simple as adjusting a single variable.\n",
    "* **Discount Rate Calculation**: The rate at which future cash-flows will be discounted back to the present.\n",
    "* **Cash Flow Analysis**: Discount cash-flow analysis based on provided projections.\n",
    "* **Monte Carlo Simulation**: A simulation with randomized variables running over a large quantity of simulations to measure consistency of asset performance.\n",
    "* **Randomly Varying Expenses**: Expenses will be randomly weighted within a given range to simulate real-life uncertainty.\n",
    "* **Randomly Varying Occupancy**: Occupancy will vary randomly within a given range to simulate real-life uncertainty.\n",
    "* **Random Chance for Market Crash**: There is always a chance things will go wrong. This chance will be factored into the simulations."
   ]
  },
  {
   "cell_type": "code",
   "execution_count": 89,
   "metadata": {},
   "outputs": [],
   "source": [
    "# Importing libraries\n",
    "import numpy as np\n",
    "import pandas as pd\n",
    "import yfinance as yf\n",
    "import matplotlib.pyplot as plt\n",
    "import seaborn as sns"
   ]
  },
  {
   "cell_type": "markdown",
   "metadata": {},
   "source": [
    "# Asset Details\n",
    "\n",
    "The investor recieves some projections from the agent that they acquired from a friend at a property management company who manages a lot of units in the area.\n",
    "\n",
    "* **Projected Income**: $40,000 - $60,000 a year per unit.\n",
    "\n",
    "The investor has a required rate of return of 15%. I ask him if this factors in the risk-free-rate and a risk premium, or they would like me to make adjustments for that math; I explain I would be adjusting up. They want me to \"work my magic\", but they make it clear that 15% is the floor. The investor tells me they want me to assume 50% of income will go to expenses, and they agree to me randomizing it to simulate real-world uncertainty."
   ]
  },
  {
   "cell_type": "code",
   "execution_count": 90,
   "metadata": {},
   "outputs": [],
   "source": [
    "# Declaring variables at the very beginning for total clarity in future calculations\n",
    "# Come back here to make any adjustments and run program again.\n",
    "\n",
    "investor_portfolio_value = 85000000\n",
    "\n",
    "price = 19500000 # Price of investment : If using leverage, use the down payment and adjust expenses to account for mortgage\n",
    "\n",
    "projection_lower = 40000\n",
    "projection_upper = 60000\n",
    "\n",
    "projected_income = np.random.uniform(projection_lower,projection_upper) # Projected income per unit randomly varies within given range\n",
    "\n",
    "expense_factor = np.random.uniform(0.35, 0.75) # Percent of income to expenses varies between 35% and 75%\n",
    "\n",
    "risk_free_rate = np.random.uniform(0.03,0.06) # An arbitrary range of 10-Year treasury yields (3%-6%) for this project\n",
    "\n",
    "risk_premium = 0.05 # Let's pretend the investor requires 5% above the risk free rate\n",
    "\n",
    "bottom_dollar = 0.15 # Must be 15% return to acquire asset\n",
    "\n",
    "units = 126 # Number of units\n",
    "\n",
    "estimated_income = projected_income * units\n",
    "\n",
    "expense_adjusted_income = estimated_income - (estimated_income*expense_factor) # Use this in calculations\n",
    "\n",
    "years = 10\n",
    "\n",
    "chance_of_crash = 10 # 10% chance of negative market event\n",
    "\n",
    "# The random seed is arbitrary and provides reproducablity; it does not affect anything in the analysis.\n",
    "# If you want the results to change each time you run the notebook,\n",
    "# just remove this line or code or comment it out.\n",
    "# You can also change the seed to see a different reproducable set of results.\n",
    "np.random.seed(23)"
   ]
  },
  {
   "cell_type": "code",
   "execution_count": 91,
   "metadata": {},
   "outputs": [],
   "source": [
    "# Calculating the Required Rate of Return\n",
    "def RequiredRateOfReturn(rfr, rp, rrr):\n",
    "    '''\n",
    "    Calculates the required rate of return based on the risk-free-rate (usually 10-year treasury),\n",
    "    the risk premium (required return above the risk-free-rate), and the investor's \"bottom dollar\"\n",
    "    minimum requrired rate of return.\n",
    "\n",
    "    If the required rate of return falls below this \"bottom dollar\" amount, the required rate of return\n",
    "    will be set to the \"bottom dollar\" amount.\n",
    "\n",
    "    Example: If the required rate of return comes out to be 13.12% and the investor requires 15%,\n",
    "    this function will return 15% for the required rate of return.\n",
    "    '''\n",
    "    try:\n",
    "        risk_free_rate = rfr\n",
    "        risk_premium = rp\n",
    "        required_return = rrr\n",
    "\n",
    "        required_rate_of_return = risk_free_rate + risk_premium\n",
    "\n",
    "        if required_rate_of_return < required_return:\n",
    "            return required_return\n",
    "        else:\n",
    "            return required_rate_of_return\n",
    "        \n",
    "    except (ValueError,TypeError):\n",
    "        return \"Error: All inputs must be numbers.\"\n",
    "    \n",
    "############################################################################################################\n",
    "# This separator is for readability\n",
    "############################################################################################################\n",
    "    \n",
    "def NetPresentValue(units, expense_adjusted_income, required_rate_of_return, number_of_years):\n",
    "    '''\n",
    "    Calculates discounted cash-flow over a selected number of years, using income amount,\n",
    "    and the investor's required rate of return.\n",
    "\n",
    "    Parameters:\n",
    "    expense_adjusted_income = projected income - expenses\n",
    "    required_rate_of_return = risk free rate + risk premium\n",
    "    number_of_years = the number of years the asset is intended to be held, or the time period in which the investor expects to receive their return\n",
    "\n",
    "    Returns the net present value and the dcf list of values.\n",
    "    '''\n",
    "    try:\n",
    "        income = expense_adjusted_income\n",
    "        required_rate_of_return = required_rate_of_return\n",
    "        number_of_years = number_of_years\n",
    "\n",
    "        dcfs = []\n",
    "\n",
    "        for year in range(1,number_of_years+1):\n",
    "            dcf = income / (1+required_rate_of_return)**year\n",
    "            dcfs.append(dcf)\n",
    "\n",
    "        npv = np.sum(dcfs)\n",
    "\n",
    "        return npv, dcfs\n",
    "\n",
    "    \n",
    "    except (ValueError,TypeError):\n",
    "        return \"Error: All values must be numbers.\"\n",
    "    \n",
    "############################################################################################################\n",
    "# This separator is for readability\n",
    "############################################################################################################\n",
    "\n",
    "def WillItProduceTheReturn(net_present_value, price):\n",
    "\n",
    "    print(f\"Price: {price}\")\n",
    "    print(f\"NPV: {net_present_value}\")\n",
    "\n",
    "    print(f\"Net Present Value - Price = Determining Factor\")\n",
    "\n",
    "    determining_factor = net_present_value - price\n",
    "\n",
    "    print(f\"Determining Factor: {determining_factor}\")\n",
    "\n",
    "    if determining_factor < 0:\n",
    "        print(f\"Is the Determining Factor positive?\")\n",
    "        print(f\"No.\")\n",
    "        print(f\"It is likely the asset will not produce the required return.\\nNegotiate lower price or pass.\")\n",
    "    else:\n",
    "        print(f\"Is the Determining Factor positive?\")\n",
    "        print(f\"Yes\")\n",
    "        print(f\"There's a good chance the asset will produce the required return.\")"
   ]
  },
  {
   "cell_type": "markdown",
   "metadata": {},
   "source": [
    "# Let's Conduct an Analysis\n",
    "\n",
    "While we do have some complex logic going on, overall the project really is this simple. We can conduct a rigorous analysis in the current state of the project.\n",
    "\n",
    "_You will have to uncomment the code and run the cell to see this example, and then comment the cell back out and rerun all cells_"
   ]
  },
  {
   "cell_type": "code",
   "execution_count": 92,
   "metadata": {},
   "outputs": [
    {
     "name": "stdout",
     "output_type": "stream",
     "text": [
      "Price: 19500000\n",
      "NPV: 10175156.99228173\n",
      "Net Present Value - Price = Determining Factor\n",
      "Determining Factor: -9324843.00771827\n",
      "Is the Determining Factor positive?\n",
      "No.\n",
      "It is likely the asset will not produce the required return.\n",
      "Negotiate lower price or pass.\n"
     ]
    }
   ],
   "source": [
    "# Required Rate of Return\n",
    "rrr = RequiredRateOfReturn(rfr=risk_free_rate,rp=risk_premium,rrr=bottom_dollar)\n",
    "\n",
    "# Net Present Value\n",
    "npv = NetPresentValue(units=units, expense_adjusted_income=expense_adjusted_income, required_rate_of_return=rrr, number_of_years=years)[0]\n",
    "\n",
    "# Will it produce the return?\n",
    "WillItProduceTheReturn(npv,price)"
   ]
  },
  {
   "cell_type": "markdown",
   "metadata": {},
   "source": [
    "## Obersvation of Results\n",
    "\n",
    "If you run the notebook over and over again up to this point, you will see that determining factor is sometimes negative and sometimes positive. In general, if you have a good idea of the expenses and projections, you can do this once and if you find a positive number you are in good shape. In this scenario, we want to go deeper. This is where a monte carlo simulation comes into play."
   ]
  },
  {
   "cell_type": "markdown",
   "metadata": {},
   "source": [
    "# Monte Carlo Simulation\n",
    "\n",
    "We have uncertainty in the income projection, expenses, and the risk free rate. Our risk free rate will always be the investor's required rate of return of 15% unless the math shows a greater number.\n",
    "\n",
    "We are using a ten-year period. A monte carlo simulations allows us to analyze the consistency of the asset's performance by simulating this ten-year period over and over again, and observing how often it performs well or poorly.\n",
    "\n",
    "A greater number of simulations will produce far more accurate results than a lesser number of simulations.\n",
    "\n",
    "**_Warning_**: This is computationally _very_ intense. I am going to set a variable called \"simulations\" to the number of times we are going to simulate the ten-year period. If you do not have a powerful computer, you will want to set this variable to a lower value. These numbers are arbitrary, and this project is purely hypothetical. You are not making any sacrifice by keeping this value very low. It is perfectly fine to set the simulations to 10 or 20 so that you do not overload your PC. It is common for these simulations to be ran a million or more times, but simulations like that are done on very powerful computers. If you are on a normal everyday laptop, keep the simulations value low. I would recommend 10 or 20, but never exceed 100."
   ]
  },
  {
   "cell_type": "code",
   "execution_count": 93,
   "metadata": {},
   "outputs": [],
   "source": [
    "simulations = 10000 # If you have a powerful computer, you can set it to 1,000 or 10,000 if you wish\n",
    "\n",
    "results = []\n",
    "crash = []\n",
    "positive_results = []\n",
    "negative_results = []\n",
    "\n",
    "for i in range(1,simulations+1):\n",
    "    # We need to reassign the variables from before so the random values\n",
    "    # are recalculated each time\n",
    "\n",
    "    # Random chance for market crash or some other negative scenario\n",
    "    random_chance_for_market_crash = np.random.randint(1,100)\n",
    "\n",
    "    # Logic to change expenses if there is a market crash or some other negative event\n",
    "    if random_chance_for_market_crash <= chance_of_crash:\n",
    "        projected_income = np.random.uniform(projection_lower,projection_upper) # Projected income per unit randomly varies within given range\n",
    "        expense_factor = np.random.uniform(0.90, 1.25)\n",
    "        crash.append(1)\n",
    "        estimated_income = projected_income * units\n",
    "        expense_adjusted_income = estimated_income - (estimated_income*expense_factor) # Use this in calculations\n",
    "    else:\n",
    "        expense_factor = np.random.uniform(0.35, 0.75) # Percent of income to expenses varies between 35% and 75%\n",
    "        projected_income = np.random.uniform(projection_lower,projection_upper) # Projected income per unit randomly varies within given range\n",
    "        estimated_income = projected_income * units\n",
    "        expense_adjusted_income = estimated_income - (estimated_income*expense_factor) # Use this in calculations\n",
    "        crash.append(0)\n",
    "\n",
    "    #############################################################################################################\n",
    "    # This is for readability\n",
    "    #############################################################################################################\n",
    "\n",
    "    risk_free_rate = np.random.uniform(0.03,0.06) # An arbitrary range of 10-Year treasury yields (3%-6%) for this project\n",
    "\n",
    "    # Required Rate of Return\n",
    "    rrr = RequiredRateOfReturn(rfr=risk_free_rate,rp=risk_premium,rrr=bottom_dollar)\n",
    "\n",
    "    # Net Present Value\n",
    "    npv = NetPresentValue(units=units, expense_adjusted_income=expense_adjusted_income, required_rate_of_return=rrr, number_of_years=years)[0]\n",
    "\n",
    "    #############################################################################################################\n",
    "    # This is for readability\n",
    "    #############################################################################################################\n",
    "\n",
    "    determining_factor = npv - price\n",
    "\n",
    "    results.append(determining_factor)\n",
    "\n",
    "    if determining_factor <= 0:\n",
    "        negative_results.append(determining_factor)\n",
    "    else:\n",
    "        positive_results.append(determining_factor)\n",
    "\n",
    "    #############################################################################################################\n",
    "    # This is for readability\n",
    "    #############################################################################################################"
   ]
  },
  {
   "cell_type": "code",
   "execution_count": 94,
   "metadata": {},
   "outputs": [
    {
     "name": "stdout",
     "output_type": "stream",
     "text": [
      "Mean of Results: -6,850,853.59\n",
      "Median of Results: -6,078,544.59\n",
      "Over 10000 simulations, the asset produced postive results 10.780000000000001% of the time.\n",
      "Over 10000 simulations, the asset produced negative results 89.22% of the time.\n",
      "\n",
      "SUCCESS RATE: 10.780000000000001%\n",
      "\n",
      "Evaluation Metric:\n",
      "The market crashed 9.92% of the time.\n",
      "This means 9.92% of the years contained a negative market event.\n",
      "If that seems realistic to you, this is a good model.\n"
     ]
    }
   ],
   "source": [
    "results_count = len(results)\n",
    "positive_results_count = len(positive_results)\n",
    "negative_results_count = len(negative_results)\n",
    "\n",
    "mean_of_results = np.mean(results)\n",
    "median_of_results = np.median(results)\n",
    "\n",
    "success_rate = positive_results_count / results_count\n",
    "failure_rate = negative_results_count / results_count\n",
    "\n",
    "crash_results = np.mean(crash)\n",
    "\n",
    "print(f\"Mean of Results: {mean_of_results:,.2f}\")\n",
    "print(f\"Median of Results: {median_of_results:,.2f}\")\n",
    "\n",
    "print(f\"Over {simulations} simulations, the asset produced postive results {success_rate*100}% of the time.\")\n",
    "print(f\"Over {simulations} simulations, the asset produced negative results {failure_rate*100}% of the time.\")\n",
    "print()\n",
    "print(f\"SUCCESS RATE: {success_rate*100}%\")\n",
    "print()\n",
    "print(f\"Evaluation Metric:\\nThe market crashed {crash_results*100}% of the time.\")\n",
    "print(f\"This means {crash_results*100}% of the years contained a negative market event.\")\n",
    "print(f\"If that seems realistic to you, this is a good model.\")"
   ]
  },
  {
   "cell_type": "markdown",
   "metadata": {},
   "source": [
    "# Visualizations\n",
    "\n",
    "Now that we have ran our simulation, we can take a look at some visualizations of our results. This is one of the simplest parts. We need a column chart and a histogram."
   ]
  },
  {
   "cell_type": "code",
   "execution_count": 95,
   "metadata": {},
   "outputs": [
    {
     "data": {
      "image/png": "[encoded data removed]",
      "text/plain": [
       "<Figure size 1200x600 with 2 Axes>"
      ]
     },
     "metadata": {},
     "output_type": "display_data"
    }
   ],
   "source": [
    "labels = [\"Success\", \"Failure\"]\n",
    "values = [success_rate, failure_rate]\n",
    "\n",
    "fig, axs = plt.subplots(1,2,figsize=(12,6))\n",
    "\n",
    "sns.histplot(results,ax=axs[0],kde=True, color='black', label=\"Simulation Results\")\n",
    "axs[0].axvline(mean_of_results,color='red', label=f\"Mean: ${mean_of_results:,.2f}\")\n",
    "axs[0].axvline(median_of_results,color='blue', label=f\"Median: ${median_of_results:,.2f}\")\n",
    "axs[0].ticklabel_format(style='plain', axis='x')\n",
    "axs[0].tick_params(axis='x', rotation=45)\n",
    "axs[0].set_title(\"Distribution of Simulation Results\")\n",
    "axs[0].set_xlabel(\"Results\")\n",
    "axs[0].set_ylabel(\"Frequency\")\n",
    "axs[0].legend(loc='center left', bbox_to_anchor=(1.01,0.5))\n",
    "\n",
    "sns.barplot(x=labels,y=values,ax=axs[1], color='black', label=\"Results (%)\")\n",
    "axs[1].set_title(\"Success Rate vs Failure Rate\")\n",
    "axs[1].set_ylabel(\"Rate (%)\")\n",
    "axs[1].legend(loc='center left', bbox_to_anchor=(1.01,0.5))\n",
    "\n",
    "plt.tight_layout()"
   ]
  },
  {
   "cell_type": "markdown",
   "metadata": {},
   "source": [
    "# Further Analysis\n",
    "\n",
    "Now, let's analyze the incomes without discounting to compare to market returns.\n",
    "\n",
    "_Note: This is a theoretical concept for sake of comparing a non-security with a security._"
   ]
  },
  {
   "cell_type": "code",
   "execution_count": 96,
   "metadata": {},
   "outputs": [
    {
     "data": {
      "text/plain": [
       "9"
      ]
     },
     "execution_count": 96,
     "metadata": {},
     "output_type": "execute_result"
    }
   ],
   "source": [
    "# Random incomes withing projected range\n",
    "cash_flows = np.random.uniform(projection_lower*units,projection_upper*units,10)\n",
    "caps = []\n",
    "\n",
    "for i in range(1,len(cash_flows)):\n",
    "    cap = cash_flows[i] / price\n",
    "    caps.append(cap)\n",
    "\n",
    "len(caps)\n"
   ]
  },
  {
   "cell_type": "code",
   "execution_count": 97,
   "metadata": {},
   "outputs": [
    {
     "data": {
      "text/plain": [
       "[-0.014541290122979245,\n",
       " 0.019838845817781812,\n",
       " 0.3439851069160951,\n",
       " -0.15115455006173123,\n",
       " 0.2010931363635313,\n",
       " -0.18128594731845235,\n",
       " 0.13387295749503042,\n",
       " 0.0827141827447329]"
      ]
     },
     "execution_count": 97,
     "metadata": {},
     "output_type": "execute_result"
    }
   ],
   "source": [
    "# YoY changes in cap rate\n",
    "changes = []\n",
    "\n",
    "for i in range(1,len(caps)):\n",
    "    change = (caps[i] - caps[i-1]) / caps[i-1]\n",
    "    changes.append(change)\n",
    "\n",
    "changes"
   ]
  },
  {
   "cell_type": "markdown",
   "metadata": {},
   "source": [
    "## Analyzing the asset relative to the S&P 500\n",
    "\n",
    "Now that I have the incomes from the asset converted to cap rates and then cap rates converted to year over year returns, I can bring in data for SPY, find the year over year returns, and perform a portfolio analysis."
   ]
  },
  {
   "cell_type": "markdown",
   "metadata": {},
   "source": [
    "### Gathering SPY data"
   ]
  },
  {
   "cell_type": "code",
   "execution_count": 98,
   "metadata": {},
   "outputs": [
    {
     "name": "stdout",
     "output_type": "stream",
     "text": [
      "[*********************100%%**********************]  1 of 1 completed\n"
     ]
    },
    {
     "data": {
      "text/html": [
       "<div>\n",
       "<style scoped>\n",
       "    .dataframe tbody tr th:only-of-type {\n",
       "        vertical-align: middle;\n",
       "    }\n",
       "\n",
       "    .dataframe tbody tr th {\n",
       "        vertical-align: top;\n",
       "    }\n",
       "\n",
       "    .dataframe thead th {\n",
       "        text-align: right;\n",
       "    }\n",
       "</style>\n",
       "<table border=\"1\" class=\"dataframe\">\n",
       "  <thead>\n",
       "    <tr style=\"text-align: right;\">\n",
       "      <th></th>\n",
       "      <th>SPY</th>\n",
       "    </tr>\n",
       "    <tr>\n",
       "      <th>Date</th>\n",
       "      <th></th>\n",
       "    </tr>\n",
       "  </thead>\n",
       "  <tbody>\n",
       "    <tr>\n",
       "      <th>2015-10-22</th>\n",
       "      <td>205.259995</td>\n",
       "    </tr>\n",
       "    <tr>\n",
       "      <th>2015-10-23</th>\n",
       "      <td>207.509995</td>\n",
       "    </tr>\n",
       "    <tr>\n",
       "      <th>2015-10-26</th>\n",
       "      <td>207.000000</td>\n",
       "    </tr>\n",
       "    <tr>\n",
       "      <th>2015-10-27</th>\n",
       "      <td>206.600006</td>\n",
       "    </tr>\n",
       "    <tr>\n",
       "      <th>2015-10-28</th>\n",
       "      <td>208.949997</td>\n",
       "    </tr>\n",
       "  </tbody>\n",
       "</table>\n",
       "</div>"
      ],
      "text/plain": [
       "                   SPY\n",
       "Date                  \n",
       "2015-10-22  205.259995\n",
       "2015-10-23  207.509995\n",
       "2015-10-26  207.000000\n",
       "2015-10-27  206.600006\n",
       "2015-10-28  208.949997"
      ]
     },
     "execution_count": 98,
     "metadata": {},
     "output_type": "execute_result"
    }
   ],
   "source": [
    "# Getting ETF data\n",
    "spy = \"SPY\"\n",
    "data = yf.download(spy,start=\"2015-10-22\",end=\"2023-10-22\") # There will only be 8 periods for our asset due to conversions\n",
    "\n",
    "df = pd.DataFrame({\n",
    "    'SPY': data['Close']\n",
    "})\n",
    "\n",
    "df.head()"
   ]
  },
  {
   "cell_type": "code",
   "execution_count": 99,
   "metadata": {},
   "outputs": [
    {
     "data": {
      "text/plain": [
       "Date\n",
       "2015-12-31         NaN\n",
       "2016-12-31    0.096434\n",
       "2017-12-31    0.193844\n",
       "2018-12-31   -0.063479\n",
       "2019-12-31    0.287852\n",
       "2020-12-31    0.161623\n",
       "2021-12-31    0.270354\n",
       "2022-12-31   -0.194816\n",
       "2023-12-31    0.101352\n",
       "Freq: A-DEC, Name: SPY, dtype: float64"
      ]
     },
     "execution_count": 99,
     "metadata": {},
     "output_type": "execute_result"
    }
   ],
   "source": [
    "# Calculating year over year changes\n",
    "annual_closing_price = df['SPY'].resample('Y').last()\n",
    "\n",
    "market_returns = annual_closing_price.pct_change()\n",
    "\n",
    "market_returns"
   ]
  },
  {
   "cell_type": "code",
   "execution_count": 100,
   "metadata": {},
   "outputs": [
    {
     "name": "stdout",
     "output_type": "stream",
     "text": [
      "8\n",
      "9\n"
     ]
    }
   ],
   "source": [
    "# Some data will be lost to all these conversions\n",
    "# This is expected\n",
    "print(len(changes))\n",
    "print(len(market_returns))"
   ]
  },
  {
   "cell_type": "code",
   "execution_count": 101,
   "metadata": {},
   "outputs": [
    {
     "data": {
      "text/html": [
       "<div>\n",
       "<style scoped>\n",
       "    .dataframe tbody tr th:only-of-type {\n",
       "        vertical-align: middle;\n",
       "    }\n",
       "\n",
       "    .dataframe tbody tr th {\n",
       "        vertical-align: top;\n",
       "    }\n",
       "\n",
       "    .dataframe thead th {\n",
       "        text-align: right;\n",
       "    }\n",
       "</style>\n",
       "<table border=\"1\" class=\"dataframe\">\n",
       "  <thead>\n",
       "    <tr style=\"text-align: right;\">\n",
       "      <th></th>\n",
       "      <th>SPY</th>\n",
       "      <th>Our Asset</th>\n",
       "    </tr>\n",
       "    <tr>\n",
       "      <th>Date</th>\n",
       "      <th></th>\n",
       "      <th></th>\n",
       "    </tr>\n",
       "  </thead>\n",
       "  <tbody>\n",
       "    <tr>\n",
       "      <th>2016-12-31</th>\n",
       "      <td>0.096434</td>\n",
       "      <td>-0.014541</td>\n",
       "    </tr>\n",
       "    <tr>\n",
       "      <th>2017-12-31</th>\n",
       "      <td>0.193844</td>\n",
       "      <td>0.019839</td>\n",
       "    </tr>\n",
       "    <tr>\n",
       "      <th>2018-12-31</th>\n",
       "      <td>-0.063479</td>\n",
       "      <td>0.343985</td>\n",
       "    </tr>\n",
       "    <tr>\n",
       "      <th>2019-12-31</th>\n",
       "      <td>0.287852</td>\n",
       "      <td>-0.151155</td>\n",
       "    </tr>\n",
       "    <tr>\n",
       "      <th>2020-12-31</th>\n",
       "      <td>0.161623</td>\n",
       "      <td>0.201093</td>\n",
       "    </tr>\n",
       "  </tbody>\n",
       "</table>\n",
       "</div>"
      ],
      "text/plain": [
       "                 SPY  Our Asset\n",
       "Date                           \n",
       "2016-12-31  0.096434  -0.014541\n",
       "2017-12-31  0.193844   0.019839\n",
       "2018-12-31 -0.063479   0.343985\n",
       "2019-12-31  0.287852  -0.151155\n",
       "2020-12-31  0.161623   0.201093"
      ]
     },
     "execution_count": 101,
     "metadata": {},
     "output_type": "execute_result"
    }
   ],
   "source": [
    "# Creating a portfolio data frame\n",
    "portfolio = pd.DataFrame({\n",
    "    'SPY': market_returns.iloc[1:], # Starting at index 1 to drop the nan value\n",
    "    'Our Asset': changes\n",
    "})\n",
    "\n",
    "portfolio.head()"
   ]
  },
  {
   "cell_type": "code",
   "execution_count": 102,
   "metadata": {},
   "outputs": [
    {
     "data": {
      "text/html": [
       "<div>\n",
       "<style scoped>\n",
       "    .dataframe tbody tr th:only-of-type {\n",
       "        vertical-align: middle;\n",
       "    }\n",
       "\n",
       "    .dataframe tbody tr th {\n",
       "        vertical-align: top;\n",
       "    }\n",
       "\n",
       "    .dataframe thead th {\n",
       "        text-align: right;\n",
       "    }\n",
       "</style>\n",
       "<table border=\"1\" class=\"dataframe\">\n",
       "  <thead>\n",
       "    <tr style=\"text-align: right;\">\n",
       "      <th></th>\n",
       "      <th>SPY</th>\n",
       "      <th>Our Asset</th>\n",
       "    </tr>\n",
       "  </thead>\n",
       "  <tbody>\n",
       "    <tr>\n",
       "      <th>0</th>\n",
       "      <td>0.096434</td>\n",
       "      <td>-0.014541</td>\n",
       "    </tr>\n",
       "    <tr>\n",
       "      <th>1</th>\n",
       "      <td>0.193844</td>\n",
       "      <td>0.019839</td>\n",
       "    </tr>\n",
       "    <tr>\n",
       "      <th>2</th>\n",
       "      <td>-0.063479</td>\n",
       "      <td>0.343985</td>\n",
       "    </tr>\n",
       "    <tr>\n",
       "      <th>3</th>\n",
       "      <td>0.287852</td>\n",
       "      <td>-0.151155</td>\n",
       "    </tr>\n",
       "    <tr>\n",
       "      <th>4</th>\n",
       "      <td>0.161623</td>\n",
       "      <td>0.201093</td>\n",
       "    </tr>\n",
       "  </tbody>\n",
       "</table>\n",
       "</div>"
      ],
      "text/plain": [
       "        SPY  Our Asset\n",
       "0  0.096434  -0.014541\n",
       "1  0.193844   0.019839\n",
       "2 -0.063479   0.343985\n",
       "3  0.287852  -0.151155\n",
       "4  0.161623   0.201093"
      ]
     },
     "execution_count": 102,
     "metadata": {},
     "output_type": "execute_result"
    }
   ],
   "source": [
    "# Resetting index so I can drop the Date column\n",
    "portfolio.reset_index(inplace=True)\n",
    "portfolio.drop(columns='Date',inplace=True)\n",
    "\n",
    "portfolio.head()"
   ]
  },
  {
   "cell_type": "markdown",
   "metadata": {},
   "source": [
    "### Calculating Alpha"
   ]
  },
  {
   "cell_type": "code",
   "execution_count": 103,
   "metadata": {},
   "outputs": [
    {
     "name": "stdout",
     "output_type": "stream",
     "text": [
      "Beta: -0.8618753844924857\n",
      "Alpha: -0.10416513963170286\n"
     ]
    }
   ],
   "source": [
    "beta = np.cov(portfolio['Our Asset'],portfolio['SPY'])[0,1] / np.var(portfolio['SPY'])\n",
    "\n",
    "alpha = np.mean(portfolio['Our Asset'] - risk_free_rate + (beta*(np.mean(portfolio['SPY']))-risk_free_rate))\n",
    "\n",
    "print(f\"Beta: {beta}\")\n",
    "print(f\"Alpha: {alpha}\")"
   ]
  },
  {
   "cell_type": "markdown",
   "metadata": {},
   "source": [
    "### Observation\n",
    "\n",
    "* A $beta$ value of -0.86 means we have a negative correlation with the market.\n",
    "* An $alpha$ value of -0.10 means we are slightly underperforming relative to the market.\n",
    "\n",
    "The next step is to check for correaltion."
   ]
  },
  {
   "cell_type": "code",
   "execution_count": 104,
   "metadata": {},
   "outputs": [
    {
     "data": {
      "text/html": [
       "<div>\n",
       "<style scoped>\n",
       "    .dataframe tbody tr th:only-of-type {\n",
       "        vertical-align: middle;\n",
       "    }\n",
       "\n",
       "    .dataframe tbody tr th {\n",
       "        vertical-align: top;\n",
       "    }\n",
       "\n",
       "    .dataframe thead th {\n",
       "        text-align: right;\n",
       "    }\n",
       "</style>\n",
       "<table border=\"1\" class=\"dataframe\">\n",
       "  <thead>\n",
       "    <tr style=\"text-align: right;\">\n",
       "      <th></th>\n",
       "      <th>SPY</th>\n",
       "      <th>Our Asset</th>\n",
       "    </tr>\n",
       "  </thead>\n",
       "  <tbody>\n",
       "    <tr>\n",
       "      <th>SPY</th>\n",
       "      <td>1.000000</td>\n",
       "      <td>-0.707301</td>\n",
       "    </tr>\n",
       "    <tr>\n",
       "      <th>Our Asset</th>\n",
       "      <td>-0.707301</td>\n",
       "      <td>1.000000</td>\n",
       "    </tr>\n",
       "  </tbody>\n",
       "</table>\n",
       "</div>"
      ],
      "text/plain": [
       "                SPY  Our Asset\n",
       "SPY        1.000000  -0.707301\n",
       "Our Asset -0.707301   1.000000"
      ]
     },
     "execution_count": 104,
     "metadata": {},
     "output_type": "execute_result"
    }
   ],
   "source": [
    "# Calculating correlation coefficient\n",
    "portfolio.corr()"
   ]
  },
  {
   "cell_type": "markdown",
   "metadata": {},
   "source": [
    "### Observation\n",
    "\n",
    "I was right; there is a negative correlation. This could be a good thing for a portfolio."
   ]
  },
  {
   "cell_type": "markdown",
   "metadata": {},
   "source": [
    "## Portfolio Variance\n",
    "\n",
    "Let's analyze the affect this asset will have on the portfolio."
   ]
  },
  {
   "cell_type": "code",
   "execution_count": 105,
   "metadata": {},
   "outputs": [
    {
     "name": "stdout",
     "output_type": "stream",
     "text": [
      "(0.18660287081339713, 0.8133971291866029)\n",
      "1.0\n"
     ]
    }
   ],
   "source": [
    "# Calculating weights\n",
    "total_value = investor_portfolio_value + price # Price of this asset\n",
    "\n",
    "asset_weight = price / total_value\n",
    "index_weight = investor_portfolio_value / total_value\n",
    "\n",
    "weights = np.array([asset_weight, index_weight])\n",
    "\n",
    "print((asset_weight, index_weight))\n",
    "\n",
    "print(asset_weight + index_weight) # Should equal 1 exactly"
   ]
  },
  {
   "cell_type": "code",
   "execution_count": 106,
   "metadata": {},
   "outputs": [
    {
     "name": "stdout",
     "output_type": "stream",
     "text": [
      "Index Standard Deviation: 0.1648\n",
      "Asset Standard Deviation: 0.1758\n",
      "Portfolio Standard Deviation: 0.1231\n"
     ]
    }
   ],
   "source": [
    "# Portfolio parameters\n",
    "index_std = portfolio['SPY'].std()\n",
    "asset_std = portfolio['Our Asset'].std()\n",
    "\n",
    "cov_matrix = np.cov(portfolio, rowvar=False)\n",
    "\n",
    "print(f\"Index Standard Deviation: {index_std:.4f}\")\n",
    "print(f\"Asset Standard Deviation: {asset_std:.4f}\")\n",
    "\n",
    "portfolio_variance = np.dot(weights.T, np.dot(cov_matrix, weights))\n",
    "\n",
    "portfolio_standard_deviation = np.sqrt(portfolio_variance)\n",
    "\n",
    "print(f\"Portfolio Standard Deviation: {portfolio_standard_deviation:.4f}\")"
   ]
  },
  {
   "cell_type": "markdown",
   "metadata": {},
   "source": [
    "### Observation\n",
    "\n",
    "* Index Standard Deviation: 0.1648 or 16.48%\n",
    "* Asset Standard Deviation: 0.1758 or 17.58%\n",
    "* Portfolio Standard Deviation: 0.1231 or 12.31%\n",
    "\n",
    "The standard deviation of the portfolio will be less than that of any individual asset inside it, reducing overall volaitlity of the value of the investor's holdings."
   ]
  },
  {
   "cell_type": "markdown",
   "metadata": {},
   "source": [
    "# Expected Return:\n",
    "\n",
    "A weighted average of the returns to find the expected return of the portfolio."
   ]
  },
  {
   "cell_type": "code",
   "execution_count": 107,
   "metadata": {},
   "outputs": [
    {
     "name": "stdout",
     "output_type": "stream",
     "text": [
      "Expected Return of Asset: 5.4315%\n",
      "Expected Return of Market: 10.6646%\n",
      "Expected Return of Portfolio: 9.6881%\n"
     ]
    }
   ],
   "source": [
    "# Expected return\n",
    "expected_return_portfolio = (asset_weight * portfolio['Our Asset'].mean())+(index_weight * portfolio['SPY'].mean())\n",
    "\n",
    "print(f\"Expected Return of Asset: {portfolio['Our Asset'].mean()*100:.4f}%\")\n",
    "print(f\"Expected Return of Market: {portfolio['SPY'].mean()*100:.4f}%\")\n",
    "\n",
    "print(f\"Expected Return of Portfolio: {expected_return_portfolio*100:.4f}%\")"
   ]
  },
  {
   "cell_type": "markdown",
   "metadata": {},
   "source": [
    "# Return on Risk\n",
    "\n",
    "Explanation:\n",
    "\n",
    "If you see a return on risk of 1.25, that means for every 1 unit of risk, you can expect 1.25 units of return.\n",
    "\n",
    "You wouldn't want to trade down by having 1 unit of risk for 0.5 units of return. The trade-off doesn't make sense.\n",
    "\n",
    "You _would_ want to trade up by having 1 unit of risk for 1.25 units of return as you stand to gain more than you are risking to lose.\n",
    "\n",
    "The factor that affects return on risk most is correlation, not returns."
   ]
  },
  {
   "cell_type": "code",
   "execution_count": 108,
   "metadata": {},
   "outputs": [
    {
     "name": "stdout",
     "output_type": "stream",
     "text": [
      "Return on Risk: 0.3090290459450973\n"
     ]
    }
   ],
   "source": [
    "# Return on risk of the asset\n",
    "\n",
    "return_on_risk = portfolio['Our Asset'].mean() / asset_std\n",
    "\n",
    "print(f\"Return on Risk: {return_on_risk}\")"
   ]
  },
  {
   "cell_type": "code",
   "execution_count": 109,
   "metadata": {},
   "outputs": [
    {
     "name": "stdout",
     "output_type": "stream",
     "text": [
      "Return on Risk: 0.6469454069767795\n"
     ]
    }
   ],
   "source": [
    "# Return on risk of the market\n",
    "\n",
    "return_on_risk = portfolio['SPY'].mean() / index_std\n",
    "\n",
    "print(f\"Return on Risk: {return_on_risk}\")"
   ]
  },
  {
   "cell_type": "code",
   "execution_count": 110,
   "metadata": {},
   "outputs": [
    {
     "name": "stdout",
     "output_type": "stream",
     "text": [
      "Return on Risk: 0.7867396221025277\n"
     ]
    }
   ],
   "source": [
    "# Return on risk of the portfolio\n",
    "\n",
    "return_on_risk = expected_return_portfolio / portfolio_standard_deviation\n",
    "\n",
    "print(f\"Return on Risk: {return_on_risk}\")"
   ]
  },
  {
   "cell_type": "markdown",
   "metadata": {},
   "source": [
    "## Return on risk findings\n",
    "\n",
    "* The return on risk of the asset is 0.3090290459450973\n",
    "* The return on risk of the market (SPY) is 0.6469454069767795\n",
    "* The return on risk of the portfolio is 0.7867396221025277\n",
    "\n",
    "***\n",
    "\n",
    "While a return on risk of 0.7867 is below a standard of 1, adding the real estate asset to the portfolio does show an increase in return for each unit of risk."
   ]
  },
  {
   "cell_type": "markdown",
   "metadata": {},
   "source": [
    "# Conclusion\n",
    "\n",
    "## Is the asset a good buy?\n",
    "\n",
    "The real asset is likely not going to make the return the investor is seeking. I would recommend against paying a lower price for the asset where the chance of success is high.\n",
    "\n",
    "## The return/risk trade-off\n",
    "\n",
    "While the asset alone is not providing a good return/risk trade-off, it does make the portfolio as a whole better. The real estate asset could serve the purpose of diversification; however, this does not make it a good purchase. Diversifying should be done with a few _good_ assets.\n",
    "\n",
    "## The expected return of the portfolio is lower with the real estate asset in it\n",
    "\n",
    "Following up on the return/risk trade-off is the fact that the expected value of the portfolio does decrease with the real estate asset in it. This is to be expected as lower volatility as we saw with the portfolio standard deviation calculation will mean lower returns also. The idea is the higher return/risk trade-off the more return you are getting for the risk you are taking. As I stated before, the asset in the portfolio does increase the return on risk.\n",
    "\n",
    "## My final input\n",
    "\n",
    "I say do not buy the asset. By itself, it is consistently a bad purchase as this price. I have provided the investor with a few parameters to help them think it over since it does help hedge against volatility, but this deal definitely needs to be negotiated further or skipped over at this price in my opinion."
   ]
  }
 ],
 "metadata": {
  "kernelspec": {
   "display_name": "Python 3",
   "language": "python",
   "name": "python3"
  },
  "language_info": {
   "codemirror_mode": {
    "name": "ipython",
    "version": 3
   },
   "file_extension": ".py",
   "mimetype": "text/x-python",
   "name": "python",
   "nbconvert_exporter": "python",
   "pygments_lexer": "ipython3",
   "version": "3.11.9"
  }
 },
 "nbformat": 4,
 "nbformat_minor": 2
}
